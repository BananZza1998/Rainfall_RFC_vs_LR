{
 "cells": [
  {
   "cell_type": "code",
   "execution_count": 1,
   "metadata": {},
   "outputs": [],
   "source": [
    "import pandas as pd\n",
    "import datetime as dt\n",
    "from datetime import datetime\n",
    "import numpy as np\n",
    "import seaborn as sns\n",
    "import warnings\n",
    "import matplotlib.pyplot as plt\n",
    "from sklearn.model_selection import train_test_split\n",
    "import xgboost as xgb\n",
    "from sklearn import metrics\n",
    "import time\n",
    "from bs4 import BeautifulSoup\n",
    "import requests\n",
    "import json\n",
    "import random\n",
    "from tqdm import tqdm\n",
    "from sklearn.linear_model import LogisticRegression\n",
    "from sklearn.metrics import log_loss, roc_auc_score, recall_score, precision_score, average_precision_score, f1_score, classification_report, accuracy_score\n",
    "\n",
    "warnings.filterwarnings('ignore')\n",
    "%matplotlib inline"
   ]
  },
  {
   "cell_type": "code",
   "execution_count": 2,
   "metadata": {},
   "outputs": [],
   "source": [
    "data_weather = pd.read_csv('weatherAUS.csv')"
   ]
  },
  {
   "cell_type": "code",
   "execution_count": 3,
   "metadata": {},
   "outputs": [],
   "source": [
    "data_weather['Date'] = pd.to_datetime(data_weather['Date'], format='%Y-%m-%d')\n",
    "data_weather = data_weather[data_weather['RainToday'].notna()]\n",
    "data_weather = data_weather[data_weather['RainTomorrow'].notna()]"
   ]
  },
  {
   "cell_type": "code",
   "execution_count": 4,
   "metadata": {},
   "outputs": [],
   "source": [
    "# Getting latitude&longitude of locations\n",
    "\n",
    "locs = data_weather.Location.unique()\n",
    "locs.sort()\n",
    "api = \"http://api.positionstack.com/v1/forward\"\n",
    "token = 'f898acba181f26412807e4fc0bf8c2ea'\n",
    "locs_df = pd.DataFrame(locs, columns=['Location'])\n",
    "locs_df['latitude'] = ''\n",
    "locs_df['longitude'] = ''\n",
    "for ind, row in locs_df.iterrows():\n",
    "    try:\n",
    "        query = row['Location'] + ', Australia'\n",
    "        url = f'{api}?access_key={token}&query={query}&limit=1'\n",
    "        page = requests.get(url)\n",
    "        doc = BeautifulSoup(page.content, 'html.parser')\n",
    "        json_dict = json.loads(str(doc))\n",
    "        locs_df.loc[int(ind), 'latitude'] = str(json_dict['data'][0]['latitude'])\n",
    "        locs_df.loc[int(ind), 'longitude'] = str(json_dict['data'][0]['longitude'])\n",
    "    except:\n",
    "        locs_df.loc[int(ind), 'latitude'] = '-33.865143'\n",
    "        locs_df.loc[int(ind), 'longitude'] = '151.209900'\n"
   ]
  },
  {
   "cell_type": "code",
   "execution_count": 5,
   "metadata": {},
   "outputs": [
    {
     "data": {
      "text/html": [
       "<div>\n",
       "<style scoped>\n",
       "    .dataframe tbody tr th:only-of-type {\n",
       "        vertical-align: middle;\n",
       "    }\n",
       "\n",
       "    .dataframe tbody tr th {\n",
       "        vertical-align: top;\n",
       "    }\n",
       "\n",
       "    .dataframe thead th {\n",
       "        text-align: right;\n",
       "    }\n",
       "</style>\n",
       "<table border=\"1\" class=\"dataframe\">\n",
       "  <thead>\n",
       "    <tr style=\"text-align: right;\">\n",
       "      <th></th>\n",
       "      <th>Location</th>\n",
       "      <th>latitude</th>\n",
       "      <th>longitude</th>\n",
       "    </tr>\n",
       "  </thead>\n",
       "  <tbody>\n",
       "    <tr>\n",
       "      <th>0</th>\n",
       "      <td>Adelaide</td>\n",
       "      <td>-34.929075</td>\n",
       "      <td>138.602578</td>\n",
       "    </tr>\n",
       "    <tr>\n",
       "      <th>1</th>\n",
       "      <td>Albany</td>\n",
       "      <td>-35.031075</td>\n",
       "      <td>117.89494</td>\n",
       "    </tr>\n",
       "    <tr>\n",
       "      <th>2</th>\n",
       "      <td>Albury</td>\n",
       "      <td>-36.074771</td>\n",
       "      <td>146.914504</td>\n",
       "    </tr>\n",
       "    <tr>\n",
       "      <th>3</th>\n",
       "      <td>AliceSprings</td>\n",
       "      <td>-33.865143</td>\n",
       "      <td>151.209900</td>\n",
       "    </tr>\n",
       "    <tr>\n",
       "      <th>4</th>\n",
       "      <td>BadgerysCreek</td>\n",
       "      <td>-33.865143</td>\n",
       "      <td>151.209900</td>\n",
       "    </tr>\n",
       "  </tbody>\n",
       "</table>\n",
       "</div>"
      ],
      "text/plain": [
       "        Location    latitude   longitude\n",
       "0       Adelaide  -34.929075  138.602578\n",
       "1         Albany  -35.031075   117.89494\n",
       "2         Albury  -36.074771  146.914504\n",
       "3   AliceSprings  -33.865143  151.209900\n",
       "4  BadgerysCreek  -33.865143  151.209900"
      ]
     },
     "execution_count": 5,
     "metadata": {},
     "output_type": "execute_result"
    }
   ],
   "source": [
    "locs_df[:5]"
   ]
  },
  {
   "cell_type": "code",
   "execution_count": 6,
   "metadata": {},
   "outputs": [],
   "source": [
    "def str_to_num(data, col):\n",
    "    mapdict = {}\n",
    "    values = list(data[col].unique())\n",
    "    for i in range(len(values)):\n",
    "        mapdict[values[i]] = i\n",
    "    return mapdict\n",
    "\n",
    "def clean_data(data):\n",
    "    n = len(data)\n",
    "    data = data.drop(['Location'], axis = 1)\n",
    "    for col in data.columns:\n",
    "        b = round(data[col].isna().sum()/n,2)\n",
    "        if (b>= 0.1):\n",
    "            data = data.drop([col], axis = 1)\n",
    "        else:\n",
    "            try:\n",
    "                data[col].fillna((data[col].mean()), inplace=True)\n",
    "            except:\n",
    "                pass\n",
    "            #if (data[col].dtype == 'O'):\n",
    "                #data[col].replace(str_to_num(data, col),inplace = True)\n",
    "                #data = pd.get_dummies(df, columns=[col], drop_first=True)\n",
    "    data = data.dropna()\n",
    "    return data"
   ]
  },
  {
   "cell_type": "code",
   "execution_count": 7,
   "metadata": {},
   "outputs": [],
   "source": [
    "## Combine All Code"
   ]
  },
  {
   "cell_type": "code",
   "execution_count": 8,
   "metadata": {},
   "outputs": [],
   "source": [
    "def get_RFC(location):\n",
    "    try:\n",
    "        data = data_weather[data_weather['Location'] == location]\n",
    "        df = clean_data(data)\n",
    "        df.replace({'No':0, 'Yes':1}, inplace=True)\n",
    "        df = pd.get_dummies(df, columns=['WindGustDir','WindDir9am','WindDir3pm'], drop_first=True)\n",
    "        in_sample = df[df.Date.dt.year != 2017]\n",
    "        out_of_sample = df[df.Date.dt.year == 2017]\n",
    "\n",
    "        X=in_sample.drop(['RainTomorrow', 'Date'], axis = 1)\n",
    "        y=in_sample['RainTomorrow']\n",
    "        X_train, X_test, y_train, y_test = train_test_split(X, y, test_size=0.2, random_state=42)\n",
    "\n",
    "        clf = LogisticRegression(penalty='l2') # logistic regression with no penalty term in the cost function.\n",
    "\n",
    "        clf.fit(X_train, y_train)\n",
    "        test_prob = clf.predict_proba(X_test)[:, 1]\n",
    "        test_pred = clf.predict(X_test)\n",
    "        test_error = round(metrics.accuracy_score(y_test, test_pred),2)\n",
    "\n",
    "\n",
    "        X_out = out_of_sample.drop(['RainTomorrow', 'Date'], axis = 1)\n",
    "        y_out = out_of_sample['RainTomorrow']\n",
    "\n",
    "        y_fc = clf.predict(X_out)\n",
    "        forecast_error = round(metrics.accuracy_score(y_out, y_fc),2)\n",
    "        print(f'Test Accuracy for {location} is: {test_error}')\n",
    "        print(f'Forecast Accuracy for {location} is: {forecast_error}')\n",
    "        df_final = out_of_sample\n",
    "        df_final['Forecast'] = y_fc\n",
    "        df_final['FC_accuracy'] = forecast_error\n",
    "        df_final['Test_accuracy'] = test_error\n",
    "    except:\n",
    "        pass\n",
    "    \n",
    "    return df_final"
   ]
  },
  {
   "cell_type": "code",
   "execution_count": 9,
   "metadata": {},
   "outputs": [
    {
     "name": "stderr",
     "output_type": "stream",
     "text": [
      "  8%|███▌                                        | 4/49 [00:00<00:02, 15.58it/s]"
     ]
    },
    {
     "name": "stdout",
     "output_type": "stream",
     "text": [
      "Test Accuracy for Adelaide is: 0.89\n",
      "Forecast Accuracy for Adelaide is: 0.89\n",
      "Test Accuracy for AliceSprings is: 0.95\n",
      "Forecast Accuracy for AliceSprings is: 0.94\n"
     ]
    },
    {
     "name": "stderr",
     "output_type": "stream",
     "text": [
      " 16%|███████▏                                    | 8/49 [00:00<00:02, 14.12it/s]"
     ]
    },
    {
     "name": "stdout",
     "output_type": "stream",
     "text": [
      "Test Accuracy for Ballarat is: 0.85\n",
      "Forecast Accuracy for Ballarat is: 0.86\n",
      "Test Accuracy for Bendigo is: 0.88\n",
      "Forecast Accuracy for Bendigo is: 0.9\n",
      "Test Accuracy for Brisbane is: 0.87\n",
      "Forecast Accuracy for Brisbane is: 0.87\n"
     ]
    },
    {
     "name": "stderr",
     "output_type": "stream",
     "text": [
      " 24%|██████████▌                                | 12/49 [00:00<00:02, 15.89it/s]"
     ]
    },
    {
     "name": "stdout",
     "output_type": "stream",
     "text": [
      "Test Accuracy for Cairns is: 0.81\n",
      "Forecast Accuracy for Cairns is: 0.75\n",
      "Test Accuracy for Cobar is: 0.92\n",
      "Forecast Accuracy for Cobar is: 0.95\n"
     ]
    },
    {
     "name": "stderr",
     "output_type": "stream",
     "text": [
      " 33%|██████████████                             | 16/49 [00:01<00:02, 14.52it/s]"
     ]
    },
    {
     "name": "stdout",
     "output_type": "stream",
     "text": [
      "Test Accuracy for Darwin is: 0.87\n",
      "Forecast Accuracy for Darwin is: 0.87\n",
      "Test Accuracy for GoldCoast is: 0.82\n",
      "Forecast Accuracy for GoldCoast is: 0.71\n",
      "Test Accuracy for Hobart is: 0.81\n",
      "Forecast Accuracy for Hobart is: 0.88\n"
     ]
    },
    {
     "name": "stderr",
     "output_type": "stream",
     "text": [
      "\r",
      " 37%|███████████████▊                           | 18/49 [00:01<00:02, 15.47it/s]"
     ]
    },
    {
     "name": "stdout",
     "output_type": "stream",
     "text": [
      "Test Accuracy for Katherine is: 0.9\n",
      "Forecast Accuracy for Katherine is: 0.89\n",
      "Test Accuracy for Melbourne is: 0.83\n",
      "Forecast Accuracy for Melbourne is: 0.83\n"
     ]
    },
    {
     "name": "stderr",
     "output_type": "stream",
     "text": [
      " 45%|███████████████████▎                       | 22/49 [00:01<00:02, 12.76it/s]"
     ]
    },
    {
     "name": "stdout",
     "output_type": "stream",
     "text": [
      "Test Accuracy for MelbourneAirport is: 0.85\n",
      "Forecast Accuracy for MelbourneAirport is: 0.87\n",
      "Test Accuracy for Mildura is: 0.92\n",
      "Forecast Accuracy for Mildura is: 0.94\n",
      "Test Accuracy for Moree is: 0.92\n",
      "Forecast Accuracy for Moree is: 0.91\n"
     ]
    },
    {
     "name": "stderr",
     "output_type": "stream",
     "text": [
      " 53%|██████████████████████▊                    | 26/49 [00:01<00:01, 13.86it/s]"
     ]
    },
    {
     "name": "stdout",
     "output_type": "stream",
     "text": [
      "Test Accuracy for MountGambier is: 0.83\n",
      "Forecast Accuracy for MountGambier is: 0.84\n",
      "Test Accuracy for MountGinini is: 0.82\n",
      "Forecast Accuracy for MountGinini is: 0.87\n",
      "Test Accuracy for Nhil is: 0.89\n",
      "Forecast Accuracy for Nhil is: 0.94\n"
     ]
    },
    {
     "name": "stderr",
     "output_type": "stream",
     "text": [
      "\r",
      " 57%|████████████████████████▌                  | 28/49 [00:02<00:01, 12.88it/s]"
     ]
    },
    {
     "name": "stdout",
     "output_type": "stream",
     "text": [
      "Test Accuracy for NorahHead is: 0.82\n",
      "Forecast Accuracy for NorahHead is: 0.77\n",
      "Test Accuracy for NorfolkIsland is: 0.79\n",
      "Forecast Accuracy for NorfolkIsland is: 0.79\n",
      "Test Accuracy for Nuriootpa is: 0.86\n",
      "Forecast Accuracy for Nuriootpa is: 0.88\n"
     ]
    },
    {
     "name": "stderr",
     "output_type": "stream",
     "text": [
      " 65%|████████████████████████████               | 32/49 [00:02<00:01, 13.82it/s]"
     ]
    },
    {
     "name": "stdout",
     "output_type": "stream",
     "text": [
      "Test Accuracy for PearceRAAF is: 0.91\n",
      "Forecast Accuracy for PearceRAAF is: 0.91\n",
      "Test Accuracy for Perth is: 0.88\n",
      "Forecast Accuracy for Perth is: 0.89\n",
      "Test Accuracy for PerthAirport is: 0.89\n",
      "Forecast Accuracy for PerthAirport is: 0.9\n"
     ]
    },
    {
     "name": "stderr",
     "output_type": "stream",
     "text": [
      " 73%|███████████████████████████████▌           | 36/49 [00:02<00:00, 13.44it/s]"
     ]
    },
    {
     "name": "stdout",
     "output_type": "stream",
     "text": [
      "Test Accuracy for Portland is: 0.78\n",
      "Forecast Accuracy for Portland is: 0.78\n",
      "Test Accuracy for Sale is: 0.84\n",
      "Forecast Accuracy for Sale is: 0.89\n"
     ]
    },
    {
     "name": "stderr",
     "output_type": "stream",
     "text": [
      "\r",
      " 78%|█████████████████████████████████▎         | 38/49 [00:02<00:00, 13.71it/s]"
     ]
    },
    {
     "name": "stdout",
     "output_type": "stream",
     "text": [
      "Test Accuracy for SalmonGums is: 0.87\n",
      "Forecast Accuracy for SalmonGums is: 0.88\n",
      "Test Accuracy for SydneyAirport is: 0.8\n",
      "Forecast Accuracy for SydneyAirport is: 0.82\n"
     ]
    },
    {
     "name": "stderr",
     "output_type": "stream",
     "text": [
      " 86%|████████████████████████████████████▊      | 42/49 [00:03<00:00, 13.84it/s]"
     ]
    },
    {
     "name": "stdout",
     "output_type": "stream",
     "text": [
      "Test Accuracy for Townsville is: 0.9\n",
      "Forecast Accuracy for Townsville is: 0.81\n",
      "Test Accuracy for Uluru is: 0.93\n",
      "Forecast Accuracy for Uluru is: 0.92\n",
      "Test Accuracy for WaggaWagga is: 0.88\n",
      "Forecast Accuracy for WaggaWagga is: 0.92\n"
     ]
    },
    {
     "name": "stderr",
     "output_type": "stream",
     "text": [
      " 94%|████████████████████████████████████████▎  | 46/49 [00:03<00:00, 12.34it/s]"
     ]
    },
    {
     "name": "stdout",
     "output_type": "stream",
     "text": [
      "Test Accuracy for Walpole is: 0.79\n",
      "Forecast Accuracy for Walpole is: 0.81\n",
      "Test Accuracy for Watsonia is: 0.84\n",
      "Forecast Accuracy for Watsonia is: 0.82\n",
      "Test Accuracy for Williamtown is: 0.82\n",
      "Forecast Accuracy for Williamtown is: 0.74\n"
     ]
    },
    {
     "name": "stderr",
     "output_type": "stream",
     "text": [
      "100%|███████████████████████████████████████████| 49/49 [00:03<00:00, 13.24it/s]"
     ]
    },
    {
     "name": "stdout",
     "output_type": "stream",
     "text": [
      "Test Accuracy for Witchcliffe is: 0.87\n",
      "Forecast Accuracy for Witchcliffe is: 0.86\n",
      "Test Accuracy for Wollongong is: 0.86\n",
      "Forecast Accuracy for Wollongong is: 0.79\n",
      "Test Accuracy for Woomera is: 0.93\n",
      "Forecast Accuracy for Woomera is: 0.98\n"
     ]
    },
    {
     "name": "stderr",
     "output_type": "stream",
     "text": [
      "\n"
     ]
    }
   ],
   "source": [
    "collect = []\n",
    "for loc in tqdm(locs_df['Location']):\n",
    "    try:     \n",
    "        df_with_results = get_RFC(loc)\n",
    "        df_with_results['Location'] = str(loc)\n",
    "        df_with_results['Latitude'] = float(locs_df[locs_df['Location'] == loc]['latitude'].values)\n",
    "        df_with_results['Longitude'] = float(locs_df[locs_df['Location'] == loc]['longitude'].values)\n",
    "        df_with_results['Date'] = df_with_results.Date.dt.date\n",
    "        df_with_results = df_with_results[['Date', 'Location', 'Latitude', 'Longitude', 'RainTomorrow', 'Forecast', 'FC_accuracy', 'Test_accuracy']]\n",
    "        collect.append(df_with_results)\n",
    "    except:\n",
    "        pass\n",
    "\n",
    "df_final_result = pd.concat(collect, axis=0, ignore_index=True).reset_index(drop = True)\n"
   ]
  },
  {
   "cell_type": "code",
   "execution_count": 10,
   "metadata": {},
   "outputs": [
    {
     "data": {
      "text/html": [
       "<div>\n",
       "<style scoped>\n",
       "    .dataframe tbody tr th:only-of-type {\n",
       "        vertical-align: middle;\n",
       "    }\n",
       "\n",
       "    .dataframe tbody tr th {\n",
       "        vertical-align: top;\n",
       "    }\n",
       "\n",
       "    .dataframe thead th {\n",
       "        text-align: right;\n",
       "    }\n",
       "</style>\n",
       "<table border=\"1\" class=\"dataframe\">\n",
       "  <thead>\n",
       "    <tr style=\"text-align: right;\">\n",
       "      <th></th>\n",
       "      <th>Date</th>\n",
       "      <th>Location</th>\n",
       "      <th>Latitude</th>\n",
       "      <th>Longitude</th>\n",
       "      <th>RainTomorrow</th>\n",
       "      <th>Forecast</th>\n",
       "      <th>FC_accuracy</th>\n",
       "      <th>Test_accuracy</th>\n",
       "    </tr>\n",
       "  </thead>\n",
       "  <tbody>\n",
       "    <tr>\n",
       "      <th>0</th>\n",
       "      <td>2017-01-01</td>\n",
       "      <td>Adelaide</td>\n",
       "      <td>-34.929075</td>\n",
       "      <td>138.602578</td>\n",
       "      <td>0</td>\n",
       "      <td>0</td>\n",
       "      <td>0.89</td>\n",
       "      <td>0.89</td>\n",
       "    </tr>\n",
       "    <tr>\n",
       "      <th>1</th>\n",
       "      <td>2017-01-02</td>\n",
       "      <td>Adelaide</td>\n",
       "      <td>-34.929075</td>\n",
       "      <td>138.602578</td>\n",
       "      <td>0</td>\n",
       "      <td>0</td>\n",
       "      <td>0.89</td>\n",
       "      <td>0.89</td>\n",
       "    </tr>\n",
       "    <tr>\n",
       "      <th>2</th>\n",
       "      <td>2017-01-03</td>\n",
       "      <td>Adelaide</td>\n",
       "      <td>-34.929075</td>\n",
       "      <td>138.602578</td>\n",
       "      <td>0</td>\n",
       "      <td>0</td>\n",
       "      <td>0.89</td>\n",
       "      <td>0.89</td>\n",
       "    </tr>\n",
       "    <tr>\n",
       "      <th>3</th>\n",
       "      <td>2017-01-04</td>\n",
       "      <td>Adelaide</td>\n",
       "      <td>-34.929075</td>\n",
       "      <td>138.602578</td>\n",
       "      <td>0</td>\n",
       "      <td>0</td>\n",
       "      <td>0.89</td>\n",
       "      <td>0.89</td>\n",
       "    </tr>\n",
       "    <tr>\n",
       "      <th>4</th>\n",
       "      <td>2017-01-05</td>\n",
       "      <td>Adelaide</td>\n",
       "      <td>-34.929075</td>\n",
       "      <td>138.602578</td>\n",
       "      <td>0</td>\n",
       "      <td>0</td>\n",
       "      <td>0.89</td>\n",
       "      <td>0.89</td>\n",
       "    </tr>\n",
       "    <tr>\n",
       "      <th>...</th>\n",
       "      <td>...</td>\n",
       "      <td>...</td>\n",
       "      <td>...</td>\n",
       "      <td>...</td>\n",
       "      <td>...</td>\n",
       "      <td>...</td>\n",
       "      <td>...</td>\n",
       "      <td>...</td>\n",
       "    </tr>\n",
       "    <tr>\n",
       "      <th>495</th>\n",
       "      <td>2017-02-14</td>\n",
       "      <td>Bendigo</td>\n",
       "      <td>-36.757608</td>\n",
       "      <td>144.279570</td>\n",
       "      <td>0</td>\n",
       "      <td>0</td>\n",
       "      <td>0.90</td>\n",
       "      <td>0.88</td>\n",
       "    </tr>\n",
       "    <tr>\n",
       "      <th>496</th>\n",
       "      <td>2017-02-15</td>\n",
       "      <td>Bendigo</td>\n",
       "      <td>-36.757608</td>\n",
       "      <td>144.279570</td>\n",
       "      <td>0</td>\n",
       "      <td>0</td>\n",
       "      <td>0.90</td>\n",
       "      <td>0.88</td>\n",
       "    </tr>\n",
       "    <tr>\n",
       "      <th>497</th>\n",
       "      <td>2017-02-16</td>\n",
       "      <td>Bendigo</td>\n",
       "      <td>-36.757608</td>\n",
       "      <td>144.279570</td>\n",
       "      <td>0</td>\n",
       "      <td>0</td>\n",
       "      <td>0.90</td>\n",
       "      <td>0.88</td>\n",
       "    </tr>\n",
       "    <tr>\n",
       "      <th>498</th>\n",
       "      <td>2017-02-17</td>\n",
       "      <td>Bendigo</td>\n",
       "      <td>-36.757608</td>\n",
       "      <td>144.279570</td>\n",
       "      <td>0</td>\n",
       "      <td>0</td>\n",
       "      <td>0.90</td>\n",
       "      <td>0.88</td>\n",
       "    </tr>\n",
       "    <tr>\n",
       "      <th>499</th>\n",
       "      <td>2017-02-18</td>\n",
       "      <td>Bendigo</td>\n",
       "      <td>-36.757608</td>\n",
       "      <td>144.279570</td>\n",
       "      <td>0</td>\n",
       "      <td>0</td>\n",
       "      <td>0.90</td>\n",
       "      <td>0.88</td>\n",
       "    </tr>\n",
       "  </tbody>\n",
       "</table>\n",
       "<p>500 rows × 8 columns</p>\n",
       "</div>"
      ],
      "text/plain": [
       "           Date  Location   Latitude   Longitude  RainTomorrow  Forecast  \\\n",
       "0    2017-01-01  Adelaide -34.929075  138.602578             0         0   \n",
       "1    2017-01-02  Adelaide -34.929075  138.602578             0         0   \n",
       "2    2017-01-03  Adelaide -34.929075  138.602578             0         0   \n",
       "3    2017-01-04  Adelaide -34.929075  138.602578             0         0   \n",
       "4    2017-01-05  Adelaide -34.929075  138.602578             0         0   \n",
       "..          ...       ...        ...         ...           ...       ...   \n",
       "495  2017-02-14   Bendigo -36.757608  144.279570             0         0   \n",
       "496  2017-02-15   Bendigo -36.757608  144.279570             0         0   \n",
       "497  2017-02-16   Bendigo -36.757608  144.279570             0         0   \n",
       "498  2017-02-17   Bendigo -36.757608  144.279570             0         0   \n",
       "499  2017-02-18   Bendigo -36.757608  144.279570             0         0   \n",
       "\n",
       "     FC_accuracy  Test_accuracy  \n",
       "0           0.89           0.89  \n",
       "1           0.89           0.89  \n",
       "2           0.89           0.89  \n",
       "3           0.89           0.89  \n",
       "4           0.89           0.89  \n",
       "..           ...            ...  \n",
       "495         0.90           0.88  \n",
       "496         0.90           0.88  \n",
       "497         0.90           0.88  \n",
       "498         0.90           0.88  \n",
       "499         0.90           0.88  \n",
       "\n",
       "[500 rows x 8 columns]"
      ]
     },
     "execution_count": 10,
     "metadata": {},
     "output_type": "execute_result"
    }
   ],
   "source": [
    "df_final_result[:500]"
   ]
  },
  {
   "cell_type": "code",
   "execution_count": 11,
   "metadata": {},
   "outputs": [
    {
     "data": {
      "text/plain": [
       "874"
      ]
     },
     "execution_count": 11,
     "metadata": {},
     "output_type": "execute_result"
    }
   ],
   "source": [
    "df_final_result['Forecast'].sum()"
   ]
  },
  {
   "cell_type": "code",
   "execution_count": 12,
   "metadata": {},
   "outputs": [
    {
     "data": {
      "text/plain": [
       "(5938, 8)"
      ]
     },
     "execution_count": 12,
     "metadata": {},
     "output_type": "execute_result"
    }
   ],
   "source": [
    "df_final_result.shape"
   ]
  },
  {
   "cell_type": "code",
   "execution_count": 13,
   "metadata": {},
   "outputs": [],
   "source": [
    "df_final_result.to_csv('LR_forecast.csv',index=False)"
   ]
  }
 ],
 "metadata": {
  "kernelspec": {
   "display_name": "Python 3 (ipykernel)",
   "language": "python",
   "name": "python3"
  },
  "language_info": {
   "codemirror_mode": {
    "name": "ipython",
    "version": 3
   },
   "file_extension": ".py",
   "mimetype": "text/x-python",
   "name": "python",
   "nbconvert_exporter": "python",
   "pygments_lexer": "ipython3",
   "version": "3.8.5"
  }
 },
 "nbformat": 4,
 "nbformat_minor": 2
}
